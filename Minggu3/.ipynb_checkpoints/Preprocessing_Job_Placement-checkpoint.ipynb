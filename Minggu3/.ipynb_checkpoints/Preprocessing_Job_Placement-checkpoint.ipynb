{
 "cells": [
  {
   "cell_type": "markdown",
   "id": "dc216f07-4f5f-457c-9b80-e57e6d2dc43f",
   "metadata": {},
   "source": [
    "# **LATIHAN PREPROCESSING DATA DENGAN MISSING VALUES**"
   ]
  },
  {
   "cell_type": "markdown",
   "id": "dfc696f5-73fe-4c1f-8c01-775a7898a8d5",
   "metadata": {},
   "source": [
    "**Import Library**"
   ]
  },
  {
   "cell_type": "code",
   "execution_count": 1,
   "id": "fde2828c-ec90-4332-9193-85f1f86606a0",
   "metadata": {},
   "outputs": [],
   "source": [
    "import numpy as np\n",
    "import matplotlib.pyplot as plt\n",
    "import pandas as pd"
   ]
  },
  {
   "cell_type": "code",
   "execution_count": 2,
   "id": "6e39b931-39cc-4cb4-8d5d-62d37b06cc49",
   "metadata": {},
   "outputs": [],
   "source": [
    "dataset = pd.read_csv('Job_Placement_Data.csv')"
   ]
  },
  {
   "cell_type": "code",
   "execution_count": 3,
   "id": "10809843-9670-496b-bd06-72344b8efc0e",
   "metadata": {},
   "outputs": [
    {
     "name": "stdout",
     "output_type": "stream",
     "text": [
      "  gender  ssc_percentage ssc_board  hsc_percentage hsc_board hsc_subject  \\\n",
      "0      M           67.00    Others           91.00    Others    Commerce   \n",
      "1      M           79.33   Central           78.33    Others     Science   \n",
      "2      M           65.00   Central             NaN   Central        Arts   \n",
      "3      M           56.00   Central           52.00   Central     Science   \n",
      "4      M           85.80   Central           73.60   Central    Commerce   \n",
      "\n",
      "   degree_percentage undergrad_degree work_experience  emp_test_percentage  \\\n",
      "0              58.00         Sci&Tech              No                 55.0   \n",
      "1              77.48         Sci&Tech             Yes                 86.5   \n",
      "2              64.00        Comm&Mgmt              No                 75.0   \n",
      "3              52.00         Sci&Tech              No                 66.0   \n",
      "4              73.30        Comm&Mgmt              No                 96.8   \n",
      "\n",
      "  specialisation  mba_percent      status  \n",
      "0         Mkt&HR        58.80      Placed  \n",
      "1        Mkt&Fin        66.28      Placed  \n",
      "2        Mkt&Fin        57.80      Placed  \n",
      "3         Mkt&HR        59.43  Not Placed  \n",
      "4        Mkt&Fin        55.50      Placed  \n"
     ]
    }
   ],
   "source": [
    "print(dataset.head())"
   ]
  },
  {
   "cell_type": "code",
   "execution_count": 4,
   "id": "96a731a2-8fa2-4e76-9b28-d443d70bd1dc",
   "metadata": {},
   "outputs": [],
   "source": [
    "# Memisahkan fitur (X) dan target (y)\n",
    "X = dataset.iloc[:, :-1].values\n",
    "y = dataset.iloc[:, -1].values"
   ]
  },
  {
   "cell_type": "code",
   "execution_count": 5,
   "id": "2859a895-adca-479f-83d0-848e0e89db90",
   "metadata": {},
   "outputs": [
    {
     "name": "stdout",
     "output_type": "stream",
     "text": [
      "[['M' 67.0 'Others' ... 55.0 'Mkt&HR' 58.8]\n",
      " ['M' 79.33 'Central' ... 86.5 'Mkt&Fin' 66.28]\n",
      " ['M' 65.0 'Central' ... 75.0 'Mkt&Fin' 57.8]\n",
      " ...\n",
      " ['F' nan 'Others' ... 59.32 'Mkt&HR' 69.71]\n",
      " ['F' 67.0 'Central' ... 88.0 'Mkt&HR' 71.96]\n",
      " ['M' 69.0 'Others' ... 73.0 'Mkt&HR' 55.8]]\n"
     ]
    }
   ],
   "source": [
    "print(X)"
   ]
  },
  {
   "cell_type": "code",
   "execution_count": 6,
   "id": "77756613-8bd6-45f5-a8a3-cc1990a6c916",
   "metadata": {},
   "outputs": [
    {
     "name": "stdout",
     "output_type": "stream",
     "text": [
      "['Placed' 'Placed' 'Placed' 'Not Placed' 'Placed' 'Not Placed'\n",
      " 'Not Placed' 'Placed' 'Placed' 'Not Placed' 'Placed' 'Placed'\n",
      " 'Not Placed' 'Placed' 'Not Placed' 'Placed' 'Placed' 'Not Placed'\n",
      " 'Not Placed' 'Placed' 'Placed' 'Placed' 'Placed' 'Placed' 'Placed'\n",
      " 'Not Placed' 'Placed' 'Placed' 'Placed' 'Not Placed' 'Placed'\n",
      " 'Not Placed' 'Placed' 'Placed' 'Not Placed' 'Placed' 'Not Placed'\n",
      " 'Placed' 'Placed' 'Placed' 'Placed' 'Not Placed' 'Not Placed' 'Placed'\n",
      " 'Placed' 'Not Placed' 'Not Placed' 'Placed' 'Placed' 'Not Placed'\n",
      " 'Placed' 'Not Placed' 'Not Placed' 'Placed' 'Placed' 'Placed' 'Placed'\n",
      " 'Placed' 'Placed' 'Placed' 'Placed' 'Placed' 'Placed' 'Not Placed'\n",
      " 'Placed' 'Not Placed' 'Placed' 'Placed' 'Not Placed' 'Placed' 'Placed'\n",
      " 'Placed' 'Placed' 'Placed' 'Placed' 'Not Placed' 'Placed' 'Placed'\n",
      " 'Placed' 'Not Placed' 'Placed' 'Placed' 'Not Placed' 'Placed' 'Placed'\n",
      " 'Placed' 'Placed' 'Not Placed' 'Placed' 'Placed' 'Placed' 'Not Placed'\n",
      " 'Placed' 'Not Placed' 'Placed' 'Placed' 'Placed' 'Not Placed' 'Placed'\n",
      " 'Not Placed' 'Not Placed' 'Placed' 'Placed' 'Placed' 'Placed'\n",
      " 'Not Placed' 'Not Placed' 'Placed' 'Placed' 'Not Placed' 'Placed'\n",
      " 'Not Placed' 'Placed' 'Placed' 'Placed' 'Placed' 'Placed' 'Placed'\n",
      " 'Placed' 'Placed' 'Not Placed' 'Placed' 'Placed' 'Placed' 'Placed'\n",
      " 'Placed' 'Placed' 'Placed' 'Placed' 'Placed' 'Not Placed' 'Placed'\n",
      " 'Placed' 'Placed' 'Placed' 'Placed' 'Not Placed' 'Placed' 'Placed'\n",
      " 'Placed' 'Placed' 'Not Placed' 'Placed' 'Placed' 'Not Placed' 'Placed'\n",
      " 'Placed' 'Placed' 'Placed' 'Not Placed' 'Placed' 'Placed' 'Placed'\n",
      " 'Placed' 'Placed' 'Not Placed' 'Placed' 'Placed' 'Not Placed'\n",
      " 'Not Placed' 'Placed' 'Not Placed' 'Placed' 'Placed' 'Placed'\n",
      " 'Not Placed' 'Placed' 'Not Placed' 'Not Placed' 'Not Placed' 'Not Placed'\n",
      " 'Placed' 'Placed' 'Not Placed' 'Placed' 'Not Placed' 'Placed' 'Placed'\n",
      " 'Placed' 'Not Placed' 'Placed' 'Not Placed' 'Not Placed' 'Placed'\n",
      " 'Not Placed' 'Placed' 'Not Placed' 'Placed' 'Not Placed' 'Not Placed'\n",
      " 'Not Placed' 'Placed' 'Placed' 'Placed' 'Not Placed' 'Placed' 'Placed'\n",
      " 'Placed' 'Not Placed' 'Placed']\n"
     ]
    }
   ],
   "source": [
    "print(y)"
   ]
  },
  {
   "cell_type": "code",
   "execution_count": 7,
   "id": "532f0121-fa72-4261-8b8b-2189555e05d2",
   "metadata": {},
   "outputs": [
    {
     "name": "stdout",
     "output_type": "stream",
     "text": [
      "<class 'pandas.core.frame.DataFrame'>\n",
      "RangeIndex: 200 entries, 0 to 199\n",
      "Data columns (total 13 columns):\n",
      " #   Column               Non-Null Count  Dtype  \n",
      "---  ------               --------------  -----  \n",
      " 0   gender               200 non-null    object \n",
      " 1   ssc_percentage       192 non-null    float64\n",
      " 2   ssc_board            200 non-null    object \n",
      " 3   hsc_percentage       192 non-null    float64\n",
      " 4   hsc_board            200 non-null    object \n",
      " 5   hsc_subject          200 non-null    object \n",
      " 6   degree_percentage    192 non-null    float64\n",
      " 7   undergrad_degree     200 non-null    object \n",
      " 8   work_experience      200 non-null    object \n",
      " 9   emp_test_percentage  192 non-null    float64\n",
      " 10  specialisation       200 non-null    object \n",
      " 11  mba_percent          192 non-null    float64\n",
      " 12  status               200 non-null    object \n",
      "dtypes: float64(5), object(8)\n",
      "memory usage: 20.4+ KB\n",
      "None\n"
     ]
    }
   ],
   "source": [
    "print(dataset.info())"
   ]
  },
  {
   "cell_type": "markdown",
   "id": "177cc71e-5101-43b0-bbe9-f2819cc8330f",
   "metadata": {},
   "source": [
    "# Menghilangkan Missing Value"
   ]
  },
  {
   "cell_type": "code",
   "execution_count": 8,
   "id": "e2da3f4b-d1cf-4c42-90b0-b97c0d2df3dd",
   "metadata": {
    "scrolled": true
   },
   "outputs": [
    {
     "name": "stdout",
     "output_type": "stream",
     "text": [
      "gender                 0\n",
      "ssc_percentage         8\n",
      "ssc_board              0\n",
      "hsc_percentage         8\n",
      "hsc_board              0\n",
      "hsc_subject            0\n",
      "degree_percentage      8\n",
      "undergrad_degree       0\n",
      "work_experience        0\n",
      "emp_test_percentage    8\n",
      "specialisation         0\n",
      "mba_percent            8\n",
      "status                 0\n",
      "dtype: int64\n"
     ]
    }
   ],
   "source": [
    "# periksa nilai yang hilang di setiap kolom\n",
    "print(dataset.isnull().sum())"
   ]
  },
  {
   "cell_type": "code",
   "execution_count": 9,
   "id": "6942e25c-ee49-4b6f-98af-b5e5224a6965",
   "metadata": {},
   "outputs": [],
   "source": [
    "from sklearn.impute import SimpleImputer\n",
    "kolom = 1, 3, 6, 9, 11\n",
    "imputer = SimpleImputer(missing_values=np.nan, strategy='mean')\n",
    "imputer.fit(X[:, kolom])\n",
    "X[:, kolom] = imputer.transform(X[:, kolom])"
   ]
  },
  {
   "cell_type": "code",
   "execution_count": 10,
   "id": "1e8c922f-c048-4b84-bad9-c651717b5829",
   "metadata": {},
   "outputs": [
    {
     "name": "stdout",
     "output_type": "stream",
     "text": [
      "[['M' 67.0 'Others' ... 55.0 'Mkt&HR' 58.8]\n",
      " ['M' 79.33 'Central' ... 86.5 'Mkt&Fin' 66.28]\n",
      " ['M' 65.0 'Central' ... 75.0 'Mkt&Fin' 57.8]\n",
      " ...\n",
      " ['F' 67.46333333333332 'Others' ... 59.32 'Mkt&HR' 69.71]\n",
      " ['F' 67.0 'Central' ... 88.0 'Mkt&HR' 71.96]\n",
      " ['M' 69.0 'Others' ... 73.0 'Mkt&HR' 55.8]]\n"
     ]
    }
   ],
   "source": [
    "# Tampilkan hasil\n",
    "print(X)"
   ]
  },
  {
   "cell_type": "markdown",
   "id": "e763a434-85ad-4d4b-8cfb-1c2b79384b59",
   "metadata": {},
   "source": [
    "# Encoding Data Kategori (Atribut)"
   ]
  },
  {
   "cell_type": "code",
   "execution_count": 11,
   "id": "bb29e77b-0424-4716-ab71-e4b9b672d790",
   "metadata": {},
   "outputs": [],
   "source": [
    "from sklearn.compose import ColumnTransformer\n",
    "from sklearn.preprocessing import OneHotEncoder\n",
    "\n",
    "# Ubah kolom bertipe string ke numerik menggunakan OneHotEncoder\n",
    "ct = ColumnTransformer(transformers=[('encoder', OneHotEncoder(), [0, 2, 4, 5, 7, 8, 10])], remainder='passthrough')\n",
    "X = np.array(ct.fit_transform(X))"
   ]
  },
  {
   "cell_type": "code",
   "execution_count": 12,
   "id": "a89ab550-675b-4e50-b802-7adb556c584c",
   "metadata": {},
   "outputs": [
    {
     "name": "stdout",
     "output_type": "stream",
     "text": [
      "[[0.0 1.0 0.0 ... 58.0 55.0 58.8]\n",
      " [0.0 1.0 1.0 ... 77.48 86.5 66.28]\n",
      " [0.0 1.0 1.0 ... 64.0 75.0 57.8]\n",
      " ...\n",
      " [1.0 0.0 0.0 ... 91.0 59.32 69.71]\n",
      " [1.0 0.0 1.0 ... 65.0 88.0 71.96]\n",
      " [0.0 1.0 0.0 ... 57.0 73.0 55.8]]\n"
     ]
    }
   ],
   "source": [
    "print(X)"
   ]
  },
  {
   "cell_type": "markdown",
   "id": "133615b2-0ea3-4e9a-84d2-3063fbc043fe",
   "metadata": {},
   "source": [
    "# Encoding Data Kategori (Label)"
   ]
  },
  {
   "cell_type": "code",
   "execution_count": 13,
   "id": "7643735b-6cc4-4a3f-905b-216b3728eded",
   "metadata": {},
   "outputs": [],
   "source": [
    "from sklearn.preprocessing import LabelEncoder\n",
    "# Encoding target \"status\" menggunakan LabelEncoder\n",
    "le = LabelEncoder()\n",
    "y = le.fit_transform(y)"
   ]
  },
  {
   "cell_type": "code",
   "execution_count": 14,
   "id": "3a4b6094-be5d-4267-8a6d-db523baf6d29",
   "metadata": {},
   "outputs": [
    {
     "name": "stdout",
     "output_type": "stream",
     "text": [
      "[1 1 1 0 1 0 0 1 1 0 1 1 0 1 0 1 1 0 0 1 1 1 1 1 1 0 1 1 1 0 1 0 1 1 0 1 0\n",
      " 1 1 1 1 0 0 1 1 0 0 1 1 0 1 0 0 1 1 1 1 1 1 1 1 1 1 0 1 0 1 1 0 1 1 1 1 1\n",
      " 1 0 1 1 1 0 1 1 0 1 1 1 1 0 1 1 1 0 1 0 1 1 1 0 1 0 0 1 1 1 1 0 0 1 1 0 1\n",
      " 0 1 1 1 1 1 1 1 1 0 1 1 1 1 1 1 1 1 1 0 1 1 1 1 1 0 1 1 1 1 0 1 1 0 1 1 1\n",
      " 1 0 1 1 1 1 1 0 1 1 0 0 1 0 1 1 1 0 1 0 0 0 0 1 1 0 1 0 1 1 1 0 1 0 0 1 0\n",
      " 1 0 1 0 0 0 1 1 1 0 1 1 1 0 1]\n"
     ]
    }
   ],
   "source": [
    "print(y)"
   ]
  },
  {
   "cell_type": "markdown",
   "id": "7c769972-8f1f-49e8-b3c7-cc4a4c0d39a0",
   "metadata": {},
   "source": [
    "# Membagi dataset ke dalam training set dan test set"
   ]
  },
  {
   "cell_type": "code",
   "execution_count": 15,
   "id": "6598164f-b732-41fb-93a9-8c48c9854923",
   "metadata": {},
   "outputs": [],
   "source": [
    "from sklearn.model_selection import train_test_split\n",
    "\n",
    "# test_size = 0.2 berarti 20% dari data akan digunakan untuk pengujian\n",
    "# random_state = 0 untuk memastikan hasil yang konsisten setiap kali kode dijalankan\n",
    "X_train, X_test, y_train, y_test = train_test_split(X,y, test_size = 0.2, random_state = 0)"
   ]
  },
  {
   "cell_type": "code",
   "execution_count": 16,
   "id": "133fd3b7-44e1-4d0e-b32b-f272290bca98",
   "metadata": {},
   "outputs": [
    {
     "name": "stdout",
     "output_type": "stream",
     "text": [
      "[[1.0 0.0 1.0 ... 72.0 94.0 67.13]\n",
      " [0.0 1.0 0.0 ... 66.0 68.92 58.46]\n",
      " [0.0 1.0 0.0 ... 66.0 94.0 57.55]\n",
      " ...\n",
      " [0.0 1.0 0.0 ... 73.0 80.0 67.05]\n",
      " [0.0 1.0 1.0 ... 57.0 78.0 54.55]\n",
      " [0.0 1.0 0.0 ... 56.0 84.0 52.64]]\n"
     ]
    }
   ],
   "source": [
    "print(X_train)"
   ]
  },
  {
   "cell_type": "code",
   "execution_count": 17,
   "id": "84b82b2b-0576-4b02-9159-6c7b43c58668",
   "metadata": {},
   "outputs": [
    {
     "name": "stdout",
     "output_type": "stream",
     "text": [
      "[[1.0 0.0 1.0 0.0 1.0 0.0 0.0 1.0 0.0 1.0 0.0 0.0 1.0 0.0 0.0 1.0 63.0\n",
      "  66.0 66.57822916666667 68.0 64.08]\n",
      " [1.0 0.0 0.0 1.0 0.0 1.0 0.0 1.0 0.0 1.0 0.0 0.0 1.0 0.0 0.0 1.0 63.4\n",
      "  67.2 60.0 58.06 69.28]\n",
      " [0.0 1.0 0.0 1.0 0.0 1.0 0.0 1.0 0.0 1.0 0.0 0.0 1.0 0.0 0.0 1.0 82.0\n",
      "  66.34531249999999 83.0 80.0 73.52]\n",
      " [1.0 0.0 1.0 0.0 1.0 0.0 0.0 1.0 0.0 1.0 0.0 0.0 1.0 0.0 1.0 0.0 69.0\n",
      "  73.0 65.0 70.0 57.31]\n",
      " [1.0 0.0 1.0 0.0 0.0 1.0 0.0 1.0 0.0 1.0 0.0 0.0 0.0 1.0 1.0 0.0 73.0\n",
      "  97.0 79.0 89.0 70.81]\n",
      " [0.0 1.0 0.0 1.0 0.0 1.0 1.0 0.0 0.0 0.0 1.0 0.0 0.0 1.0 1.0 0.0 52.0\n",
      "  65.0 57.0 75.0 59.81]\n",
      " [0.0 1.0 0.0 1.0 0.0 1.0 0.0 0.0 1.0 0.0 0.0 1.0 0.0 1.0 1.0 0.0 55.0\n",
      "  49.8 67.25 55.0 51.58]\n",
      " [0.0 1.0 1.0 0.0 0.0 1.0 0.0 0.0 1.0 1.0 0.0 0.0 1.0 0.0 0.0 1.0\n",
      "  67.46333333333332 63.0 66.0 85.0 55.14]\n",
      " [1.0 0.0 1.0 0.0 0.0 1.0 0.0 0.0 1.0 1.0 0.0 0.0 1.0 0.0 0.0 1.0 47.0\n",
      "  55.0 65.0 62.0 65.04]\n",
      " [1.0 0.0 0.0 1.0 1.0 0.0 0.0 0.0 1.0 0.0 0.0 1.0 1.0 0.0 1.0 0.0 75.4\n",
      "  60.5 84.0 98.0 62.423125000000006]\n",
      " [0.0 1.0 1.0 0.0 1.0 0.0 0.0 1.0 0.0 1.0 0.0 0.0 1.0 0.0 1.0 0.0 84.2\n",
      "  73.4 66.89 61.6 62.48]\n",
      " [1.0 0.0 1.0 0.0 1.0 0.0 0.0 1.0 0.0 1.0 0.0 0.0 1.0 0.0 1.0 0.0 84.0\n",
      "  66.34531249999999 73.0 75.0 73.33]\n",
      " [0.0 1.0 1.0 0.0 0.0 1.0 0.0 1.0 0.0 1.0 0.0 0.0 0.0 1.0 1.0 0.0 65.0\n",
      "  71.5 62.8 57.0 56.6]\n",
      " [0.0 1.0 1.0 0.0 0.0 1.0 0.0 0.0 1.0 1.0 0.0 0.0 0.0 1.0 1.0 0.0 53.0\n",
      "  63.0 60.0 70.0 53.2]\n",
      " [1.0 0.0 0.0 1.0 0.0 1.0 0.0 1.0 0.0 1.0 0.0 0.0 0.0 1.0 0.0 1.0 69.0\n",
      "  62.0 69.0 67.0 62.35]\n",
      " [0.0 1.0 1.0 0.0 1.0 0.0 0.0 0.0 1.0 0.0 0.0 1.0 0.0 1.0 1.0 0.0 82.0\n",
      "  64.0 66.0 67.0 62.14]\n",
      " [1.0 0.0 0.0 1.0 0.0 1.0 0.0 0.0 1.0 1.0 0.0 0.0 0.0 1.0 1.0 0.0 87.0\n",
      "  65.0 81.0 88.0 72.78]\n",
      " [0.0 1.0 1.0 0.0 0.0 1.0 0.0 1.0 0.0 1.0 0.0 0.0 1.0 0.0 1.0 0.0 62.0\n",
      "  65.0 66.57822916666667 84.0 64.15]\n",
      " [1.0 0.0 1.0 0.0 1.0 0.0 0.0 0.0 1.0 0.0 0.0 1.0 1.0 0.0 0.0 1.0 79.0\n",
      "  76.0 65.6 58.0 55.47]\n",
      " [0.0 1.0 1.0 0.0 1.0 0.0 0.0 1.0 0.0 1.0 0.0 0.0 1.0 0.0 1.0 0.0 56.6\n",
      "  66.34531249999999 70.2 84.27 67.2]\n",
      " [0.0 1.0 1.0 0.0 1.0 0.0 0.0 1.0 0.0 1.0 0.0 0.0 1.0 0.0 0.0 1.0 65.0\n",
      "  77.0 69.0 60.0 61.82]\n",
      " [0.0 1.0 0.0 1.0 0.0 1.0 0.0 0.0 1.0 0.0 0.0 1.0 1.0 0.0 0.0 1.0 89.4\n",
      "  65.66 71.25 72.0 63.23]\n",
      " [1.0 0.0 1.0 0.0 1.0 0.0 0.0 0.0 1.0 0.0 0.0 1.0 1.0 0.0 0.0 1.0 76.0\n",
      "  64.0 72.0 58.0 66.53]\n",
      " [0.0 1.0 1.0 0.0 0.0 1.0 0.0 1.0 0.0 1.0 0.0 0.0 1.0 0.0 0.0 1.0 52.0\n",
      "  49.0 58.0 62.0 60.59]\n",
      " [0.0 1.0 1.0 0.0 1.0 0.0 0.0 0.0 1.0 1.0 0.0 0.0 0.0 1.0 1.0 0.0 74.0\n",
      "  70.0 72.0 60.0 57.24]\n",
      " [0.0 1.0 0.0 1.0 0.0 1.0 0.0 1.0 0.0 1.0 0.0 0.0 0.0 1.0 0.0 1.0 74.0\n",
      "  59.0 73.0 71.83890625 56.7]\n",
      " [1.0 0.0 1.0 0.0 1.0 0.0 0.0 0.0 1.0 0.0 0.0 1.0 1.0 0.0 0.0 1.0 77.8\n",
      "  64.0 64.2 75.5 72.14]\n",
      " [1.0 0.0 1.0 0.0 1.0 0.0 0.0 0.0 1.0 0.0 1.0 0.0 1.0 0.0 0.0 1.0 88.0\n",
      "  72.0 78.0 82.0 71.43]\n",
      " [1.0 0.0 1.0 0.0 1.0 0.0 1.0 0.0 0.0 1.0 0.0 0.0 0.0 1.0 1.0 0.0 66.5\n",
      "  66.8 69.3 80.4 71.0]\n",
      " [1.0 0.0 0.0 1.0 0.0 1.0 0.0 1.0 0.0 1.0 0.0 0.0 0.0 1.0 1.0 0.0 77.0\n",
      "  73.0 81.0 89.0 69.7]\n",
      " [0.0 1.0 1.0 0.0 1.0 0.0 0.0 1.0 0.0 1.0 0.0 0.0 0.0 1.0 1.0 0.0 63.0\n",
      "  66.2 65.6 60.0 62.54]\n",
      " [0.0 1.0 1.0 0.0 0.0 1.0 0.0 0.0 1.0 1.0 0.0 0.0 1.0 0.0 0.0 1.0 60.4\n",
      "  66.6 65.0 71.0 52.71]\n",
      " [0.0 1.0 1.0 0.0 1.0 0.0 0.0 0.0 1.0 0.0 0.0 1.0 0.0 1.0 1.0 0.0 71.0\n",
      "  58.66 58.0 56.0 61.3]\n",
      " [0.0 1.0 0.0 1.0 0.0 1.0 0.0 0.0 1.0 0.0 0.0 1.0 1.0 0.0 0.0 1.0 51.0\n",
      "  54.0 61.0 60.0 60.64]\n",
      " [1.0 0.0 0.0 1.0 0.0 1.0 0.0 0.0 1.0 0.0 0.0 1.0 1.0 0.0 0.0 1.0 69.8\n",
      "  60.8 72.23 55.53 62.423125000000006]\n",
      " [1.0 0.0 1.0 0.0 0.0 1.0 0.0 1.0 0.0 1.0 0.0 0.0 1.0 0.0 1.0 0.0 54.0\n",
      "  77.6 69.2 95.65 66.94]\n",
      " [0.0 1.0 1.0 0.0 0.0 1.0 0.0 1.0 0.0 1.0 0.0 0.0 0.0 1.0 1.0 0.0 76.7\n",
      "  89.7 66.0 90.0 68.55]\n",
      " [0.0 1.0 1.0 0.0 1.0 0.0 0.0 1.0 0.0 1.0 0.0 0.0 1.0 0.0 1.0 0.0 85.8\n",
      "  73.6 73.3 96.8 55.5]\n",
      " [0.0 1.0 0.0 1.0 0.0 1.0 0.0 0.0 1.0 0.0 0.0 1.0 0.0 1.0 1.0 0.0 84.0\n",
      "  79.0 68.0 84.0 66.69]\n",
      " [0.0 1.0 0.0 1.0 0.0 1.0 0.0 0.0 1.0 0.0 0.0 1.0 1.0 0.0 1.0 0.0 61.08\n",
      "  50.0 54.0 71.0 65.69]]\n"
     ]
    }
   ],
   "source": [
    "print(X_test)"
   ]
  },
  {
   "cell_type": "code",
   "execution_count": 18,
   "id": "6adaf3c2-d436-4c75-a398-ed8cb0fb816e",
   "metadata": {},
   "outputs": [
    {
     "name": "stdout",
     "output_type": "stream",
     "text": [
      "[1 1 1 1 0 0 1 0 1 1 1 1 0 0 0 1 1 1 1 1 1 1 0 1 1 1 1 1 0 1 1 1 1 1 0 1 0\n",
      " 0 1 0 1 0 1 1 1 1 1 1 0 1 1 1 0 1 1 1 0 1 0 1 0 1 1 1 1 1 1 1 0 0 1 0 1 1\n",
      " 1 0 1 0 1 1 1 1 1 0 0 1 0 1 1 0 0 0 1 1 0 1 1 0 1 1 1 1 1 1 0 1 0 1 0 0 1\n",
      " 0 0 1 1 1 1 1 0 1 1 1 0 1 1 1 1 1 0 1 0 0 0 0 1 1 1 1 1 0 0 1 0 1 0 1 1 1\n",
      " 1 1 0 0 1 0 1 1 1 1 1 1]\n"
     ]
    }
   ],
   "source": [
    "print(y_train)"
   ]
  },
  {
   "cell_type": "code",
   "execution_count": 19,
   "id": "60642da5-59de-4d53-bd6f-ad9a0304c358",
   "metadata": {},
   "outputs": [
    {
     "name": "stdout",
     "output_type": "stream",
     "text": [
      "[0 0 1 1 1 0 0 1 0 1 1 1 1 1 1 1 1 0 1 1 1 1 0 0 1 1 0 1 1 1 1 1 1 0 1 0 1\n",
      " 1 1 0]\n"
     ]
    }
   ],
   "source": [
    "print(y_test)"
   ]
  },
  {
   "cell_type": "markdown",
   "id": "ddd8f31d-f56a-4b75-85f4-dbbb652d194c",
   "metadata": {},
   "source": [
    "# Feature Scaling"
   ]
  },
  {
   "cell_type": "code",
   "execution_count": 20,
   "id": "1791c7fa-47da-41d7-874a-5b987db2c6f5",
   "metadata": {},
   "outputs": [],
   "source": [
    "from sklearn.preprocessing import StandardScaler\n",
    "# Menerapkan standarisasi pada fitur numerik (mulai dari kolom ke-17)\n",
    "sc = StandardScaler()\n",
    "X_train[:, 16:] = sc.fit_transform(X_train[:, 16:]) \n",
    "X_test[:, 16:] = sc.transform(X_test[:, 16:])"
   ]
  },
  {
   "cell_type": "code",
   "execution_count": 21,
   "id": "9269fe4f-8ab7-4579-91e2-5249ddb1b2b8",
   "metadata": {},
   "outputs": [
    {
     "name": "stdout",
     "output_type": "stream",
     "text": [
      "[[1.0 0.0 1.0 ... 0.8088117784876246 1.7435019236066194\n",
      "  0.8919494861898679]\n",
      " [0.0 1.0 0.0 ... -0.018678326450726764 -0.21358437770494\n",
      "  -0.6777831617387449]\n",
      " [0.0 1.0 0.0 ... -0.018678326450726764 1.7435019236066194\n",
      "  -0.8425417210945747]\n",
      " ...\n",
      " [0.0 1.0 0.0 ... 0.9467267959773499 0.6510295066065462\n",
      "  0.8774652172355096]\n",
      " [0.0 1.0 1.0 ... -1.259913483858254 0.4949620184636787\n",
      "  -1.3857018068830225]\n",
      " [0.0 1.0 0.0 ... -1.3978285013479792 0.9631644828922814\n",
      "  -1.7315137281683335]]\n"
     ]
    }
   ],
   "source": [
    "print(X_train)"
   ]
  },
  {
   "cell_type": "code",
   "execution_count": 22,
   "id": "c0cc8c5e-3c56-4e0a-9f04-61f627261403",
   "metadata": {},
   "outputs": [
    {
     "name": "stdout",
     "output_type": "stream",
     "text": [
      "[[1.0 0.0 1.0 0.0 1.0 0.0 0.0 1.0 0.0 1.0 0.0 0.0 1.0 0.0 0.0 1.0\n",
      "  -0.3863711694499753 -0.020844054443394024 0.06106815918317679\n",
      "  -0.2853754222506592 0.33973673230494666]\n",
      " [1.0 0.0 0.0 1.0 0.0 1.0 0.0 1.0 0.0 1.0 0.0 0.0 1.0 0.0 0.0 1.0\n",
      "  -0.34694072007829657 0.08730050648771334 -0.8461684313890783\n",
      "  -1.061030838320711 1.2812142143382566]\n",
      " [0.0 1.0 0.0 1.0 0.0 1.0 0.0 1.0 0.0 1.0 0.0 0.0 1.0 0.0 0.0 1.0\n",
      "  1.4865751757047705 0.010275669470374312 2.3258769708746025\n",
      "  0.6510295066065462 2.0488804689192617]\n",
      " [1.0 0.0 1.0 0.0 1.0 0.0 0.0 1.0 0.0 1.0 0.0 0.0 1.0 0.0 1.0 0.0\n",
      "  0.2050855711252076 0.6099992176547308 -0.15659334394045202\n",
      "  -0.12930793410779162 -0.8859945279576495]\n",
      " [1.0 0.0 1.0 0.0 0.0 1.0 0.0 1.0 0.0 1.0 0.0 0.0 0.0 1.0 1.0 0.0\n",
      "  0.5993900648419962 2.772890436276873 1.7742169009157014\n",
      "  1.3533332032494503 1.558225858090365]\n",
      " [0.0 1.0 0.0 1.0 0.0 1.0 1.0 0.0 0.0 0.0 1.0 0.0 0.0 1.0 1.0 0.0\n",
      "  -1.470708527171144 -0.11096452188598328 -1.259913483858254\n",
      "  0.2608607862493773 -0.4333611231339432]\n",
      " [0.0 1.0 0.0 1.0 0.0 1.0 0.0 0.0 1.0 0.0 0.0 1.0 0.0 1.0 1.0 0.0\n",
      "  -1.1749801568835525 -1.4807956270133402 0.15371544541142979\n",
      "  -1.2998140951792985 -1.9234302918135855]\n",
      " [0.0 1.0 1.0 0.0 0.0 1.0 0.0 0.0 1.0 1.0 0.0 0.0 1.0 0.0 0.0 1.0\n",
      "  0.05360692812234041 -0.29120545677116183 -0.018678326450726764\n",
      "  1.0411982269637152 -1.278880323344627]\n",
      " [1.0 0.0 1.0 0.0 0.0 1.0 0.0 0.0 1.0 1.0 0.0 0.0 1.0 0.0 0.0 1.0\n",
      "  -1.9635891443171296 -1.012169196311876 -0.15659334394045202\n",
      "  -0.753577886679262 0.5135479597572513]\n",
      " [1.0 0.0 0.0 1.0 1.0 0.0 0.0 0.0 1.0 0.0 0.0 1.0 1.0 0.0 1.0 0.0\n",
      "  0.8359727610720699 -0.5165066253776349 2.463791988364328\n",
      "  2.0556368998923547 0.03975394325803662]\n",
      " [0.0 1.0 1.0 0.0 1.0 0.0 0.0 1.0 0.0 1.0 0.0 0.0 1.0 0.0 1.0 0.0\n",
      "  1.7034426472490045 0.646047404631767 0.10406603911512878\n",
      "  -0.7847913843078353 0.05005135321777429]\n",
      " [1.0 0.0 1.0 0.0 1.0 0.0 0.0 1.0 0.0 1.0 0.0 0.0 1.0 0.0 1.0 0.0\n",
      "  1.6837274225631649 0.010275669470374312 0.9467267959773499\n",
      "  0.2608607862493773 2.0144803301526606]\n",
      " [0.0 1.0 1.0 0.0 0.0 1.0 0.0 1.0 0.0 1.0 0.0 0.0 0.0 1.0 1.0 0.0\n",
      "  -0.189218922591581 0.4748185164908469 -0.4600063824178479\n",
      "  -1.1437466070364308 -1.0145424149275823]\n",
      " [0.0 1.0 1.0 0.0 0.0 1.0 0.0 0.0 1.0 1.0 0.0 0.0 0.0 1.0 1.0 0.0\n",
      "  -1.3721324037419467 -0.29120545677116183 -0.8461684313890783\n",
      "  -0.12930793410779162 -1.6301238454878229]\n",
      " [1.0 0.0 0.0 1.0 0.0 1.0 0.0 1.0 0.0 1.0 0.0 0.0 0.0 1.0 0.0 1.0\n",
      "  0.2050855711252076 -0.38132592421375106 0.39506672601844894\n",
      "  -0.363409166322093 0.026514416166942383]\n",
      " [0.0 1.0 1.0 0.0 1.0 0.0 0.0 0.0 1.0 0.0 0.0 1.0 0.0 1.0 1.0 0.0\n",
      "  1.4865751757047705 -0.20108498932857255 -0.018678326450726764\n",
      "  -0.363409166322093 -0.01150678983824911]\n",
      " [1.0 0.0 0.0 1.0 0.0 1.0 0.0 0.0 1.0 1.0 0.0 0.0 0.0 1.0 1.0 0.0\n",
      "  1.9794557928507561 -0.11096452188598328 2.050046935895152\n",
      "  1.2752994591780167 1.9149009810914455]\n",
      " [0.0 1.0 1.0 0.0 0.0 1.0 0.0 1.0 0.0 1.0 0.0 0.0 1.0 0.0 1.0 0.0\n",
      "  -0.48494729287917243 -0.11096452188598328 0.06106815918317679\n",
      "  0.9631644828922814 0.35241046764001177]\n",
      " [1.0 0.0 1.0 0.0 1.0 0.0 0.0 0.0 1.0 0.0 0.0 1.0 1.0 0.0 0.0 1.0\n",
      "  1.190846805417179 0.8803606199824986 -0.07384433344661764\n",
      "  -1.065712862964997 -1.2191327139078982]\n",
      " [0.0 1.0 1.0 0.0 1.0 0.0 0.0 1.0 0.0 1.0 0.0 0.0 1.0 0.0 1.0 0.0\n",
      "  -1.017258359396837 0.010275669470374312 0.5605647470061197\n",
      "  0.9842335937915683 0.9046232215249331]\n",
      " [0.0 1.0 1.0 0.0 1.0 0.0 0.0 1.0 0.0 1.0 0.0 0.0 1.0 0.0 0.0 1.0\n",
      "  -0.189218922591581 0.9704810874250879 0.39506672601844894\n",
      "  -0.9096453748221295 -0.06944386565568358]\n",
      " [0.0 1.0 0.0 1.0 0.0 1.0 0.0 0.0 1.0 0.0 0.0 1.0 1.0 0.0 0.0 1.0\n",
      "  2.21603848908083 -0.05148501337387468 0.7053755153703307\n",
      "  0.026759554035075947 0.1858413746648862]\n",
      " [1.0 0.0 1.0 0.0 1.0 0.0 0.0 0.0 1.0 0.0 0.0 1.0 1.0 0.0 0.0 1.0\n",
      "  0.8951184351295877 -0.20108498932857255 0.8088117784876246\n",
      "  -1.065712862964997 0.7833174690321795]\n",
      " [0.0 1.0 1.0 0.0 0.0 1.0 0.0 1.0 0.0 1.0 0.0 0.0 1.0 0.0 0.0 1.0\n",
      "  -1.470708527171144 -1.5528920009674114 -1.1219984663685287\n",
      "  -0.753577886679262 -0.2921395008289466]\n",
      " [0.0 1.0 1.0 0.0 1.0 0.0 0.0 0.0 1.0 1.0 0.0 0.0 0.0 1.0 1.0 0.0\n",
      "  0.6979661882711933 0.339637815326963 0.8088117784876246\n",
      "  -0.9096453748221295 -0.8986682632927134]\n",
      " [0.0 1.0 0.0 1.0 0.0 1.0 0.0 1.0 0.0 1.0 0.0 0.0 0.0 1.0 0.0 1.0\n",
      "  0.6979661882711933 -0.6516873265415188 0.9467267959773499\n",
      "  0.014188805576067923 -0.9964370787346338]\n",
      " [1.0 0.0 1.0 0.0 1.0 0.0 0.0 0.0 1.0 0.0 0.0 1.0 1.0 0.0 0.0 1.0\n",
      "  1.0725554573021423 -0.20108498932857255 -0.2669253579322318\n",
      "  0.2998776582850942 1.7990268294565765]\n",
      " [1.0 0.0 1.0 0.0 1.0 0.0 0.0 0.0 1.0 0.0 1.0 0.0 1.0 0.0 0.0 1.0\n",
      "  2.0780319162799534 0.5198787502121416 1.6363018834259762\n",
      "  0.8070969947494139 1.670478942486645]\n",
      " [1.0 0.0 1.0 0.0 1.0 0.0 1.0 0.0 0.0 1.0 0.0 0.0 0.0 1.0 1.0 0.0\n",
      "  -0.04135473744778526 0.05125231951067713 0.43644123126536616\n",
      "  0.6822430042351202 1.5926259968569663]\n",
      " [1.0 0.0 0.0 1.0 0.0 1.0 0.0 1.0 0.0 1.0 0.0 0.0 0.0 1.0 1.0 0.0\n",
      "  0.9936945585587847 0.6099992176547308 2.050046935895152\n",
      "  1.3533332032494503 1.3572566263486394]\n",
      " [0.0 1.0 1.0 0.0 1.0 0.0 0.0 1.0 0.0 1.0 0.0 0.0 0.0 1.0 1.0 0.0\n",
      "  -0.3863711694499753 -0.0028199609548759156 -0.07384433344661764\n",
      "  -0.9096453748221295 0.060914554933543655]\n",
      " [0.0 1.0 1.0 0.0 0.0 1.0 0.0 0.0 1.0 1.0 0.0 0.0 1.0 0.0 0.0 1.0\n",
      "  -0.642669090365888 0.03322822602215902 -0.15659334394045202\n",
      "  -0.051274190036357845 -1.7188399928332696]\n",
      " [0.0 1.0 1.0 0.0 1.0 0.0 0.0 0.0 1.0 0.0 0.0 1.0 0.0 1.0 1.0 0.0\n",
      "  0.4022378179836019 -0.6823282854719995 -1.1219984663685287\n",
      "  -1.2217803511078646 -0.16359161385901508]\n",
      " [0.0 1.0 0.0 1.0 0.0 1.0 0.0 0.0 1.0 0.0 0.0 1.0 1.0 0.0 0.0 1.0\n",
      "  -1.569284650600341 -1.1022896637544652 -0.7082534138993529\n",
      "  -0.9096453748221295 -0.283086832732473]\n",
      " [1.0 0.0 0.0 1.0 0.0 1.0 0.0 0.0 1.0 0.0 0.0 1.0 1.0 0.0 0.0 1.0\n",
      "  0.28394646986856503 -0.4894704851448584 0.840532232510262\n",
      "  -1.2584562108214385 0.03975394325803662]\n",
      " [1.0 0.0 1.0 0.0 0.0 1.0 0.0 1.0 0.0 1.0 0.0 0.0 1.0 0.0 1.0 0.0\n",
      "  -1.2735562803127496 1.0245533678906409 0.4226497295163944\n",
      "  1.8722576013244856 0.8575493474232667]\n",
      " [0.0 1.0 1.0 0.0 0.0 1.0 0.0 1.0 0.0 1.0 0.0 0.0 0.0 1.0 1.0 0.0\n",
      "  0.964121721530026 2.115011023945972 -0.018678326450726764\n",
      "  1.431366947320884 1.1490452601297334]\n",
      " [0.0 1.0 1.0 0.0 1.0 0.0 0.0 1.0 0.0 1.0 0.0 0.0 1.0 0.0 1.0 0.0\n",
      "  1.8611644447357194 0.6640714981202839 0.9881013012242671\n",
      "  1.9619964070066338 -1.2137011130500135]\n",
      " [0.0 1.0 0.0 1.0 0.0 1.0 0.0 0.0 1.0 0.0 0.0 1.0 0.0 1.0 1.0 0.0\n",
      "  1.6837274225631649 1.1507220223102663 0.2571517085287237\n",
      "  0.9631644828922814 0.812286006940896]\n",
      " [0.0 1.0 0.0 1.0 0.0 1.0 0.0 0.0 1.0 0.0 0.0 1.0 1.0 0.0 1.0 0.0\n",
      "  -0.575637326434034 -1.4627715335248221 -1.6736585363274297\n",
      "  -0.051274190036357845 0.6312326450114135]]\n"
     ]
    }
   ],
   "source": [
    "print(X_test)"
   ]
  }
 ],
 "metadata": {
  "kernelspec": {
   "display_name": "Python 3 (ipykernel)",
   "language": "python",
   "name": "python3"
  },
  "language_info": {
   "codemirror_mode": {
    "name": "ipython",
    "version": 3
   },
   "file_extension": ".py",
   "mimetype": "text/x-python",
   "name": "python",
   "nbconvert_exporter": "python",
   "pygments_lexer": "ipython3",
   "version": "3.11.9"
  }
 },
 "nbformat": 4,
 "nbformat_minor": 5
}
