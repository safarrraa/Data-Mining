{
  "cells": [
    {
      "cell_type": "code",
      "execution_count": 1,
      "metadata": {
        "id": "rw2trGGto-4O"
      },
      "outputs": [],
      "source": [
        "# Import library numpy, pandas dan scikit-learn\n",
        "import numpy as np\n",
        "import pandas as pd\n",
        "from sklearn import tree"
      ]
    },
    {
      "cell_type": "code",
      "execution_count": 2,
      "metadata": {
        "id": "acy6kUs3phwJ"
      },
      "outputs": [],
      "source": [
        "# Membaca Dataset dari File ke Pandas dataFrame\n",
        "Dataset = pd.read_csv('dataset/milk_quality.csv')"
      ]
    },
    {
      "cell_type": "code",
      "execution_count": 3,
      "metadata": {
        "id": "j2ZolV4uqjwO"
      },
      "outputs": [],
      "source": [
        "# Mengubah kelas (kolom \"Grade\") dari String ke Unique-Integer\n",
        "Dataset[\"Grade\"] = pd.factorize(Dataset.Grade)[0]"
      ]
    },
    {
      "cell_type": "code",
      "execution_count": 4,
      "metadata": {
        "id": "dG-3UdM3rUxu"
      },
      "outputs": [],
      "source": [
        "# Mengubah dataFrame ke array Numpy\n",
        "Dataset = Dataset.to_numpy()"
      ]
    },
    {
      "cell_type": "code",
      "execution_count": 5,
      "metadata": {
        "id": "yAN-UH4kriLH"
      },
      "outputs": [],
      "source": [
        "#Membagi Dataset => 80 baris data untuk training dan 20 baris data untuk testing\n",
        "# dataTraining = np.concatenate((Dataset[0:40, :], Dataset[50:90, :]), \n",
        "#                               axis=0)\n",
        "# dataTesting = np.concatenate((Dataset[40:50, :], Dataset[90:100, :]), \n",
        "#                              axis=0)\n"
      ]
    },
    {
      "cell_type": "code",
      "execution_count": 6,
      "metadata": {},
      "outputs": [
        {
          "name": "stdout",
          "output_type": "stream",
          "text": [
            "Bentuk dataTraining: (847, 8)\n",
            "Bentuk dataTesting: (212, 8)\n"
          ]
        }
      ],
      "source": [
        "from sklearn.model_selection import train_test_split\n",
        "# Membagi dataset menjadi 80% untuk pelatihan dan 20% untuk pengujian\n",
        "dataTraining, dataTesting = train_test_split(Dataset, test_size=0.2, random_state=0)\n",
        "\n",
        "# Menampilkan bentuk dataTraining dan dataTesting\n",
        "print(\"Bentuk dataTraining:\", dataTraining.shape)  \n",
        "print(\"Bentuk dataTesting:\", dataTesting.shape)   "
      ]
    },
    {
      "cell_type": "code",
      "execution_count": 7,
      "metadata": {
        "id": "4H9gup4Gs0aX"
      },
      "outputs": [],
      "source": [
        "#Memecah Dataset ke Input dan Label\n",
        "inputTraining = dataTraining[:, 0:7]\n",
        "inputTesting = dataTesting[:, 0:7]\n",
        "labelTraining = dataTraining[:, 7]\n",
        "labelTesting = dataTesting[:, 7]"
      ]
    },
    {
      "cell_type": "code",
      "execution_count": 8,
      "metadata": {},
      "outputs": [
        {
          "name": "stdout",
          "output_type": "stream",
          "text": [
            "[2. 2. 2. 2. 0. 2. 0. 1. 0. 0. 2. 0. 2. 1. 1. 2. 0. 0. 0. 1. 1. 0. 1. 2.\n",
            " 1. 1. 1. 0. 1. 0. 1. 2. 0. 1. 2. 2. 1. 1. 2. 1. 0. 1. 1. 1. 0. 1. 0. 1.\n",
            " 1. 2. 2. 1. 2. 2. 1. 2. 2. 2. 2. 2. 1. 1. 1. 0. 2. 1. 1. 2. 2. 1. 1. 0.\n",
            " 1. 2. 0. 2. 2. 2. 1. 2. 1. 1. 1. 1. 1. 1. 1. 1. 2. 2. 1. 2. 2. 2. 2. 1.\n",
            " 2. 2. 2. 1. 1. 1. 0. 1. 0. 1. 2. 2. 0. 1. 1. 2. 2. 0. 1. 0. 1. 1. 0. 1.\n",
            " 2. 1. 2. 0. 2. 2. 1. 1. 2. 0. 1. 1. 0. 2. 0. 1. 1. 1. 0. 2. 2. 1. 2. 2.\n",
            " 0. 1. 1. 1. 1. 0. 0. 0. 1. 2. 1. 2. 2. 2. 0. 2. 1. 0. 2. 2. 1. 0. 2. 0.\n",
            " 2. 1. 1. 2. 1. 1. 1. 2. 2. 1. 2. 0. 1. 1. 2. 1. 1. 1. 1. 2. 2. 2. 2. 0.\n",
            " 2. 1. 2. 1. 0. 2. 1. 1. 2. 1. 0. 2. 1. 1. 1. 2. 1. 2. 1. 2. 2. 1. 1. 1.\n",
            " 0. 2. 2. 1. 0. 1. 2. 0. 1. 1. 1. 1. 2. 0. 1. 2. 2. 2. 2. 0. 0. 1. 1. 2.\n",
            " 1. 1. 2. 0. 1. 1. 0. 0. 2. 0. 0. 1. 0. 1. 0. 1. 2. 1. 2. 1. 0. 2. 1. 1.\n",
            " 1. 1. 1. 0. 1. 0. 2. 1. 1. 2. 1. 1. 0. 2. 2. 2. 2. 0. 1. 2. 1. 0. 0. 0.\n",
            " 0. 0. 1. 1. 1. 2. 0. 1. 0. 1. 0. 2. 2. 2. 1. 2. 2. 1. 0. 2. 2. 2. 2. 0.\n",
            " 1. 0. 1. 0. 1. 1. 1. 1. 2. 2. 1. 1. 1. 2. 0. 2. 0. 1. 1. 2. 0. 1. 2. 1.\n",
            " 0. 1. 0. 2. 2. 1. 2. 0. 0. 0. 1. 1. 1. 2. 1. 0. 1. 2. 0. 1. 0. 2. 0. 1.\n",
            " 1. 1. 0. 1. 2. 2. 1. 1. 1. 2. 1. 1. 2. 0. 0. 2. 1. 1. 2. 2. 0. 1. 1. 1.\n",
            " 0. 0. 2. 2. 1. 0. 1. 2. 2. 1. 1. 1. 0. 2. 2. 1. 1. 2. 0. 2. 1. 1. 1. 1.\n",
            " 1. 0. 1. 2. 0. 1. 1. 1. 1. 2. 0. 1. 1. 1. 2. 0. 0. 2. 2. 2. 0. 2. 1. 2.\n",
            " 1. 1. 0. 0. 0. 0. 2. 1. 2. 2. 2. 2. 0. 0. 1. 1. 1. 2. 2. 2. 2. 0. 2. 1.\n",
            " 1. 1. 2. 2. 1. 0. 1. 0. 2. 1. 2. 1. 1. 1. 1. 1. 0. 0. 2. 2. 1. 2. 0. 1.\n",
            " 1. 1. 1. 1. 2. 2. 2. 0. 1. 2. 1. 2. 2. 1. 0. 1. 1. 1. 1. 2. 2. 1. 2. 2.\n",
            " 1. 1. 2. 1. 1. 2. 1. 1. 2. 2. 0. 1. 0. 2. 1. 2. 0. 1. 1. 1. 1. 1. 2. 2.\n",
            " 2. 0. 1. 2. 1. 1. 2. 1. 1. 0. 2. 1. 0. 0. 0. 0. 2. 1. 2. 1. 1. 1. 2. 1.\n",
            " 1. 0. 1. 2. 1. 1. 1. 2. 1. 2. 0. 2. 2. 0. 0. 2. 1. 2. 1. 0. 1. 2. 0. 2.\n",
            " 1. 2. 2. 1. 1. 2. 2. 2. 0. 2. 2. 1. 2. 1. 1. 1. 1. 0. 2. 1. 0. 1. 0. 2.\n",
            " 1. 1. 0. 1. 0. 2. 0. 2. 0. 2. 1. 2. 1. 2. 2. 1. 0. 2. 1. 2. 0. 0. 1. 1.\n",
            " 1. 1. 0. 1. 1. 0. 0. 0. 0. 1. 2. 1. 0. 2. 0. 1. 2. 1. 2. 0. 1. 1. 0. 1.\n",
            " 0. 1. 2. 2. 2. 0. 0. 1. 1. 1. 1. 1. 1. 1. 1. 1. 1. 1. 1. 2. 2. 2. 1. 1.\n",
            " 0. 0. 0. 2. 1. 1. 0. 1. 1. 2. 2. 1. 1. 1. 1. 2. 2. 2. 2. 2. 0. 0. 2. 0.\n",
            " 1. 1. 2. 0. 2. 2. 1. 2. 1. 1. 1. 2. 2. 2. 1. 2. 1. 0. 2. 0. 0. 2. 1. 2.\n",
            " 0. 2. 0. 1. 1. 0. 2. 1. 2. 0. 1. 2. 2. 2. 2. 0. 2. 2. 2. 2. 2. 2. 2. 1.\n",
            " 0. 1. 0. 2. 2. 2. 0. 0. 2. 0. 0. 0. 0. 1. 2. 1. 1. 0. 0. 0. 0. 1. 2. 1.\n",
            " 2. 2. 2. 1. 2. 1. 1. 1. 2. 2. 2. 1. 2. 2. 0. 1. 1. 1. 0. 2. 1. 2. 2. 1.\n",
            " 0. 1. 1. 0. 2. 0. 0. 2. 1. 1. 1. 0. 0. 2. 1. 1. 1. 2. 1. 2. 2. 0. 1. 2.\n",
            " 2. 2. 2. 1. 2. 2. 2. 1. 1. 0. 1. 2. 2. 1. 0. 1. 1. 2. 1. 1. 1. 1. 2. 2.\n",
            " 1. 0. 2. 1. 1. 1. 2.]\n",
            "<class 'numpy.ndarray'>\n"
          ]
        }
      ],
      "source": [
        "print(labelTraining)\n",
        "print(type(labelTraining))"
      ]
    },
    {
      "cell_type": "code",
      "execution_count": 9,
      "metadata": {},
      "outputs": [
        {
          "name": "stdout",
          "output_type": "stream",
          "text": [
            "Hasil transformasi inputTraining:\n",
            "[[  6.6  38.    0.  ...   0.    0.  255. ]\n",
            " [  6.6  45.    0.  ...   0.    1.  250. ]\n",
            " [  6.8  45.    0.  ...   0.    0.  240. ]\n",
            " ...\n",
            " [  4.7  38.    1.  ...   1.    0.  255. ]\n",
            " [  9.   43.    1.  ...   1.    1.  250. ]\n",
            " [  6.5  38.    1.  ...   0.    0.  255. ]]\n"
          ]
        }
      ],
      "source": [
        "print(\"Hasil transformasi inputTraining:\")\n",
        "print(inputTraining)"
      ]
    },
    {
      "cell_type": "code",
      "execution_count": 10,
      "metadata": {
        "id": "kco04ijXtRvn"
      },
      "outputs": [],
      "source": [
        "# Mendefinisikan Decision Tree Classifier\n",
        "model = tree.DecisionTreeClassifier()"
      ]
    },
    {
      "cell_type": "code",
      "execution_count": 11,
      "metadata": {
        "id": "92Ji3zzNtcJG"
      },
      "outputs": [],
      "source": [
        "# Mentraining Model\n",
        "model = model.fit(inputTraining, labelTraining)"
      ]
    },
    {
      "cell_type": "code",
      "execution_count": 12,
      "metadata": {
        "id": "xPE9lX1PtlKW"
      },
      "outputs": [
        {
          "name": "stdout",
          "output_type": "stream",
          "text": [
            "Label Sebenarnya :  [0. 1. 2. 1. 0. 2. 1. 0. 0. 2. 1. 0. 2. 2. 0. 1. 0. 0. 0. 1. 0. 1. 2. 0.\n",
            " 0. 1. 0. 0. 1. 2. 0. 1. 1. 2. 0. 0. 1. 0. 0. 1. 0. 2. 0. 1. 2. 1. 0. 1.\n",
            " 2. 1. 0. 2. 2. 2. 1. 2. 2. 1. 2. 1. 2. 1. 2. 0. 1. 2. 1. 2. 2. 0. 0. 2.\n",
            " 2. 0. 2. 2. 2. 1. 0. 2. 1. 2. 2. 1. 2. 2. 0. 1. 1. 1. 2. 0. 2. 1. 0. 2.\n",
            " 1. 0. 2. 2. 0. 2. 1. 2. 0. 0. 0. 0. 1. 1. 0. 0. 0. 0. 1. 2. 1. 0. 2. 0.\n",
            " 2. 2. 1. 0. 0. 1. 1. 1. 2. 0. 1. 2. 1. 2. 0. 2. 2. 2. 2. 1. 2. 0. 1. 1.\n",
            " 2. 0. 1. 1. 1. 0. 1. 2. 2. 1. 0. 0. 2. 2. 2. 2. 2. 2. 1. 2. 2. 0. 0. 1.\n",
            " 0. 2. 1. 1. 2. 0. 0. 1. 0. 0. 0. 2. 2. 1. 1. 1. 1. 0. 2. 0. 1. 1. 0. 1.\n",
            " 1. 1. 2. 1. 2. 2. 0. 2. 1. 0. 2. 1. 2. 2. 1. 2. 2. 1. 0. 2.]\n",
            "Hasil Prediksi :  [0. 1. 2. 1. 0. 2. 1. 0. 0. 2. 1. 0. 2. 2. 0. 2. 0. 0. 0. 1. 0. 1. 2. 0.\n",
            " 0. 1. 0. 0. 1. 2. 0. 1. 1. 2. 0. 0. 1. 2. 0. 1. 0. 2. 0. 1. 2. 1. 0. 1.\n",
            " 2. 1. 0. 2. 2. 2. 1. 2. 2. 1. 2. 1. 2. 1. 2. 0. 1. 2. 1. 2. 2. 0. 0. 2.\n",
            " 2. 0. 2. 2. 2. 1. 0. 2. 1. 2. 2. 1. 2. 2. 0. 1. 1. 1. 2. 0. 2. 1. 0. 2.\n",
            " 1. 0. 2. 2. 0. 2. 1. 2. 0. 0. 0. 0. 1. 1. 0. 0. 0. 0. 1. 2. 1. 0. 2. 0.\n",
            " 2. 2. 1. 0. 0. 1. 1. 1. 2. 0. 1. 2. 1. 2. 0. 2. 2. 2. 2. 1. 2. 0. 1. 1.\n",
            " 2. 0. 1. 1. 1. 0. 1. 2. 2. 1. 0. 0. 2. 2. 2. 2. 2. 2. 1. 2. 2. 0. 0. 1.\n",
            " 0. 2. 1. 1. 2. 0. 0. 1. 0. 0. 0. 2. 2. 1. 1. 1. 1. 0. 2. 0. 1. 1. 0. 1.\n",
            " 1. 1. 2. 1. 2. 2. 0. 2. 1. 0. 2. 1. 2. 2. 1. 2. 2. 1. 0. 2.]\n"
          ]
        }
      ],
      "source": [
        "# Memprediksi Input Data Testing\n",
        "hasilPrediksi = model.predict(inputTesting)\n",
        "print(\"Label Sebenarnya : \", labelTesting)\n",
        "print(\"Hasil Prediksi : \", hasilPrediksi)"
      ]
    },
    {
      "cell_type": "code",
      "execution_count": 13,
      "metadata": {
        "id": "6SMAZMn4uBD1"
      },
      "outputs": [
        {
          "name": "stdout",
          "output_type": "stream",
          "text": [
            "Prediksi Benar : 210 data\n",
            "Prediksi Salah : 2 data\n",
            "Akurasi : 99.05660377358491 %\n"
          ]
        }
      ],
      "source": [
        "# Menghitung Akurasi\n",
        "prediksiBenar = (hasilPrediksi == labelTesting).sum()\n",
        "prediksiSalah = (hasilPrediksi != labelTesting).sum()\n",
        "print(\"Prediksi Benar :\", prediksiBenar, \"data\")\n",
        "print(\"Prediksi Salah :\", prediksiSalah, \"data\")\n",
        "print(\"Akurasi :\", prediksiBenar/(prediksiBenar+prediksiSalah) * 100, \"%\")"
      ]
    }
  ],
  "metadata": {
    "colab": {
      "name": "DecisionTree IrisCSV.ipynb",
      "provenance": []
    },
    "kernelspec": {
      "display_name": "Python 3",
      "name": "python3"
    },
    "language_info": {
      "codemirror_mode": {
        "name": "ipython",
        "version": 3
      },
      "file_extension": ".py",
      "mimetype": "text/x-python",
      "name": "python",
      "nbconvert_exporter": "python",
      "pygments_lexer": "ipython3",
      "version": "3.12.2"
    }
  },
  "nbformat": 4,
  "nbformat_minor": 0
}
